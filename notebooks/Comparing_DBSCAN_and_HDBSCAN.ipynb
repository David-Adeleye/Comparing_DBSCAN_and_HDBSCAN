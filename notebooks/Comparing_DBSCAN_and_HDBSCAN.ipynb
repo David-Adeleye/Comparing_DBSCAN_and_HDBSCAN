{
 "cells": [
  {
   "cell_type": "markdown",
   "metadata": {},
   "source": [
    "# <center>Comparing DBSCAN and HDBSCAN clustering"
   ]
  },
  {
   "cell_type": "markdown",
   "metadata": {},
   "source": [
    "The two clustering models will be trained using data curated by StatCan containing the names, types, and locations of cultural and art facilities across Canada. Focus will be on the museum locations provided across Canada."
   ]
  },
  {
   "cell_type": "code",
   "execution_count": 3,
   "metadata": {},
   "outputs": [],
   "source": [
    "# Import libraries\n",
    "import os\n",
    "import sys\n",
    "import pandas as pd\n",
    "import numpy as np\n",
    "import matplotlib.pyplot as plt\n",
    "from sklearn.cluster import DBSCAN\n",
    "import hdbscan\n",
    "from sklearn.preprocessing import StandardScaler\n",
    "\n",
    "# Geographical tools\n",
    "import geopandas as gpd # pandas dataframe-like geodataframes for geographical data\n",
    "import contextily as ctx # used for obtianing a basemap of Canada\n",
    "from shapely.geometry import Point\n",
    "\n",
    "# Functions\n",
    "# Add the src folder to the Python path so \n",
    "sys.path.append(os.path.abspath('../src'))\n",
    "\n",
    "from data_loader import load_museum_data, download_and_extract_tif\n",
    "\n",
    "# Suppress warnings\n",
    "import warnings\n",
    "warnings.filterwarnings('ignore')"
   ]
  },
  {
   "cell_type": "markdown",
   "metadata": {},
   "source": [
    "### Data Exploration"
   ]
  },
  {
   "cell_type": "code",
   "execution_count": null,
   "metadata": {},
   "outputs": [],
   "source": [
    "# Download and extract Canada map for reference\n",
    "zip_file_url='https://cf-courses-data.s3.us.cloud-object-storage.appdomain.cloud/YcUk-ytgrPkmvZAh5bf7zA/Canada.zip'\n",
    "download_and_extract_tif(zip_file_url)"
   ]
  },
  {
   "cell_type": "code",
   "execution_count": 4,
   "metadata": {},
   "outputs": [
    {
     "name": "stdout",
     "output_type": "stream",
     "text": [
      "Downloaded and extracted: Canada.tif\n",
      "Detected encoding: Windows-1252\n"
     ]
    },
    {
     "data": {
      "text/html": [
       "<div>\n",
       "<style scoped>\n",
       "    .dataframe tbody tr th:only-of-type {\n",
       "        vertical-align: middle;\n",
       "    }\n",
       "\n",
       "    .dataframe tbody tr th {\n",
       "        vertical-align: top;\n",
       "    }\n",
       "\n",
       "    .dataframe thead th {\n",
       "        text-align: right;\n",
       "    }\n",
       "</style>\n",
       "<table border=\"1\" class=\"dataframe\">\n",
       "  <thead>\n",
       "    <tr style=\"text-align: right;\">\n",
       "      <th></th>\n",
       "      <th>Index</th>\n",
       "      <th>Facility_Name</th>\n",
       "      <th>Source_Facility_Type</th>\n",
       "      <th>ODCAF_Facility_Type</th>\n",
       "      <th>Provider</th>\n",
       "      <th>Unit</th>\n",
       "      <th>Street_No</th>\n",
       "      <th>Street_Name</th>\n",
       "      <th>Postal_Code</th>\n",
       "      <th>City</th>\n",
       "      <th>Prov_Terr</th>\n",
       "      <th>Source_Format_Address</th>\n",
       "      <th>CSD_Name</th>\n",
       "      <th>CSDUID</th>\n",
       "      <th>PRUID</th>\n",
       "      <th>Latitude</th>\n",
       "      <th>Longitude</th>\n",
       "    </tr>\n",
       "  </thead>\n",
       "  <tbody>\n",
       "    <tr>\n",
       "      <th>0</th>\n",
       "      <td>1</td>\n",
       "      <td>#Hashtag Gallery</td>\n",
       "      <td>..</td>\n",
       "      <td>gallery</td>\n",
       "      <td>toronto</td>\n",
       "      <td>..</td>\n",
       "      <td>801</td>\n",
       "      <td>dundas st w</td>\n",
       "      <td>M6J 1V2</td>\n",
       "      <td>toronto</td>\n",
       "      <td>on</td>\n",
       "      <td>801 dundas st w</td>\n",
       "      <td>Toronto</td>\n",
       "      <td>3520005</td>\n",
       "      <td>35</td>\n",
       "      <td>43.65169472</td>\n",
       "      <td>-79.40803272</td>\n",
       "    </tr>\n",
       "    <tr>\n",
       "      <th>1</th>\n",
       "      <td>2</td>\n",
       "      <td>'Ksan Historical Village &amp; Museum</td>\n",
       "      <td>historic site-building or park</td>\n",
       "      <td>museum</td>\n",
       "      <td>canadian museums association</td>\n",
       "      <td>..</td>\n",
       "      <td>1500</td>\n",
       "      <td>62 hwy</td>\n",
       "      <td>V0J 1Y0</td>\n",
       "      <td>hazelton</td>\n",
       "      <td>bc</td>\n",
       "      <td>1500 hwy 62 hazelton british columbia v0j 1y0 ...</td>\n",
       "      <td>Hazelton</td>\n",
       "      <td>5949022</td>\n",
       "      <td>59</td>\n",
       "      <td>55.2645508</td>\n",
       "      <td>-127.6428124</td>\n",
       "    </tr>\n",
       "    <tr>\n",
       "      <th>2</th>\n",
       "      <td>3</td>\n",
       "      <td>'School Days' Museum</td>\n",
       "      <td>community/regional museum</td>\n",
       "      <td>museum</td>\n",
       "      <td>canadian museums association</td>\n",
       "      <td>..</td>\n",
       "      <td>427</td>\n",
       "      <td>queen st</td>\n",
       "      <td>E3B 5R6</td>\n",
       "      <td>fredericton</td>\n",
       "      <td>nb</td>\n",
       "      <td>427 queen st fredericton new brunswick e3b 5r6...</td>\n",
       "      <td>Fredericton</td>\n",
       "      <td>1310032</td>\n",
       "      <td>13</td>\n",
       "      <td>45.963283</td>\n",
       "      <td>-66.6419017</td>\n",
       "    </tr>\n",
       "    <tr>\n",
       "      <th>3</th>\n",
       "      <td>4</td>\n",
       "      <td>10 Austin Street</td>\n",
       "      <td>built heritage properties</td>\n",
       "      <td>heritage or historic site</td>\n",
       "      <td>moncton</td>\n",
       "      <td>..</td>\n",
       "      <td>10</td>\n",
       "      <td>austin st</td>\n",
       "      <td>E1C 1Z6</td>\n",
       "      <td>moncton</td>\n",
       "      <td>nb</td>\n",
       "      <td>10 austin st</td>\n",
       "      <td>Moncton</td>\n",
       "      <td>1307022</td>\n",
       "      <td>13</td>\n",
       "      <td>46.09247776</td>\n",
       "      <td>-64.78022946</td>\n",
       "    </tr>\n",
       "    <tr>\n",
       "      <th>4</th>\n",
       "      <td>5</td>\n",
       "      <td>10 Gates Dancing Inc.</td>\n",
       "      <td>arts</td>\n",
       "      <td>miscellaneous</td>\n",
       "      <td>ottawa</td>\n",
       "      <td>..</td>\n",
       "      <td>..</td>\n",
       "      <td>..</td>\n",
       "      <td>..</td>\n",
       "      <td>ottawa</td>\n",
       "      <td>on</td>\n",
       "      <td>..</td>\n",
       "      <td>Ottawa</td>\n",
       "      <td>3506008</td>\n",
       "      <td>35</td>\n",
       "      <td>45.40856224</td>\n",
       "      <td>-75.71536766</td>\n",
       "    </tr>\n",
       "  </tbody>\n",
       "</table>\n",
       "</div>"
      ],
      "text/plain": [
       "   Index                      Facility_Name            Source_Facility_Type  \\\n",
       "0      1                   #Hashtag Gallery                              ..   \n",
       "1      2  'Ksan Historical Village & Museum  historic site-building or park   \n",
       "2      3               'School Days' Museum       community/regional museum   \n",
       "3      4                   10 Austin Street       built heritage properties   \n",
       "4      5              10 Gates Dancing Inc.                            arts   \n",
       "\n",
       "         ODCAF_Facility_Type                      Provider Unit Street_No  \\\n",
       "0                    gallery                       toronto   ..       801   \n",
       "1                     museum  canadian museums association   ..      1500   \n",
       "2                     museum  canadian museums association   ..       427   \n",
       "3  heritage or historic site                       moncton   ..        10   \n",
       "4              miscellaneous                        ottawa   ..        ..   \n",
       "\n",
       "   Street_Name Postal_Code         City Prov_Terr  \\\n",
       "0  dundas st w     M6J 1V2      toronto        on   \n",
       "1       62 hwy     V0J 1Y0     hazelton        bc   \n",
       "2     queen st     E3B 5R6  fredericton        nb   \n",
       "3    austin st     E1C 1Z6      moncton        nb   \n",
       "4           ..          ..       ottawa        on   \n",
       "\n",
       "                               Source_Format_Address     CSD_Name   CSDUID  \\\n",
       "0                                    801 dundas st w      Toronto  3520005   \n",
       "1  1500 hwy 62 hazelton british columbia v0j 1y0 ...     Hazelton  5949022   \n",
       "2  427 queen st fredericton new brunswick e3b 5r6...  Fredericton  1310032   \n",
       "3                                       10 austin st      Moncton  1307022   \n",
       "4                                                 ..       Ottawa  3506008   \n",
       "\n",
       "  PRUID     Latitude     Longitude  \n",
       "0    35  43.65169472  -79.40803272  \n",
       "1    59   55.2645508  -127.6428124  \n",
       "2    13    45.963283   -66.6419017  \n",
       "3    13  46.09247776  -64.78022946  \n",
       "4    35  45.40856224  -75.71536766  "
      ]
     },
     "execution_count": 4,
     "metadata": {},
     "output_type": "execute_result"
    }
   ],
   "source": [
    "# Load data and preview museum dataset\n",
    "csv_url = 'https://cf-courses-data.s3.us.cloud-object-storage.appdomain.cloud/r-maSj5Yegvw2sJraT15FA/ODCAF-v1-0.csv'\n",
    "df = load_museum_data(csv_url)\n",
    "df.head()\n"
   ]
  },
  {
   "cell_type": "code",
   "execution_count": 10,
   "metadata": {},
   "outputs": [
    {
     "data": {
      "text/plain": [
       "Index                    0\n",
       "Facility_Name            0\n",
       "Source_Facility_Type     0\n",
       "ODCAF_Facility_Type      0\n",
       "Provider                 0\n",
       "Unit                     0\n",
       "Street_No                0\n",
       "Street_Name              0\n",
       "Postal_Code              0\n",
       "City                     0\n",
       "Prov_Terr                0\n",
       "Source_Format_Address    0\n",
       "CSD_Name                 0\n",
       "CSDUID                   0\n",
       "PRUID                    0\n",
       "Latitude                 0\n",
       "Longitude                0\n",
       "dtype: int64"
      ]
     },
     "execution_count": 10,
     "metadata": {},
     "output_type": "execute_result"
    }
   ],
   "source": [
    "# Check for missing values\n",
    "df.isna().sum()"
   ]
  },
  {
   "cell_type": "markdown",
   "metadata": {},
   "source": [
    "The missing values are represented by '..'"
   ]
  },
  {
   "cell_type": "code",
   "execution_count": 17,
   "metadata": {},
   "outputs": [
    {
     "data": {
      "text/plain": [
       "Index                       0\n",
       "Facility_Name               4\n",
       "Source_Facility_Type     2533\n",
       "ODCAF_Facility_Type         0\n",
       "Provider                    0\n",
       "Unit                     7623\n",
       "Street_No                1284\n",
       "Street_Name              1149\n",
       "Postal_Code              1454\n",
       "City                      116\n",
       "Prov_Terr                   2\n",
       "Source_Format_Address     804\n",
       "CSD_Name                  301\n",
       "CSDUID                    301\n",
       "PRUID                      90\n",
       "Latitude                 1224\n",
       "Longitude                1224\n",
       "dtype: int64"
      ]
     },
     "execution_count": 17,
     "metadata": {},
     "output_type": "execute_result"
    }
   ],
   "source": [
    "# Replace '..' with real NaNs\n",
    "df.replace('..', np.nan, inplace=True)\n",
    "\n",
    "#Check missing values\n",
    "df.isna().sum()"
   ]
  },
  {
   "cell_type": "code",
   "execution_count": 6,
   "metadata": {},
   "outputs": [
    {
     "name": "stdout",
     "output_type": "stream",
     "text": [
      "<class 'pandas.core.frame.DataFrame'>\n",
      "RangeIndex: 7972 entries, 0 to 7971\n",
      "Data columns (total 17 columns):\n",
      " #   Column                 Non-Null Count  Dtype \n",
      "---  ------                 --------------  ----- \n",
      " 0   Index                  7972 non-null   int64 \n",
      " 1   Facility_Name          7972 non-null   object\n",
      " 2   Source_Facility_Type   7972 non-null   object\n",
      " 3   ODCAF_Facility_Type    7972 non-null   object\n",
      " 4   Provider               7972 non-null   object\n",
      " 5   Unit                   7972 non-null   object\n",
      " 6   Street_No              7972 non-null   object\n",
      " 7   Street_Name            7972 non-null   object\n",
      " 8   Postal_Code            7972 non-null   object\n",
      " 9   City                   7972 non-null   object\n",
      " 10  Prov_Terr              7972 non-null   object\n",
      " 11  Source_Format_Address  7972 non-null   object\n",
      " 12  CSD_Name               7972 non-null   object\n",
      " 13  CSDUID                 7972 non-null   object\n",
      " 14  PRUID                  7972 non-null   object\n",
      " 15  Latitude               7972 non-null   object\n",
      " 16  Longitude              7972 non-null   object\n",
      "dtypes: int64(1), object(16)\n",
      "memory usage: 1.0+ MB\n"
     ]
    }
   ],
   "source": [
    "# Check data types\n",
    "df.info()"
   ]
  },
  {
   "cell_type": "code",
   "execution_count": 16,
   "metadata": {},
   "outputs": [
    {
     "data": {
      "text/plain": [
       "ODCAF_Facility_Type                 \n",
       "library or archives                     3013\n",
       "museum                                  1938\n",
       "gallery                                  810\n",
       "heritage or historic site                620\n",
       "theatre/performance and concert hall     583\n",
       "festival site                            346\n",
       "miscellaneous                            343\n",
       "art or cultural centre                   225\n",
       "artist                                    94\n",
       "Name: count, dtype: int64"
      ]
     },
     "execution_count": 16,
     "metadata": {},
     "output_type": "execute_result"
    }
   ],
   "source": [
    "df[['ODCAF_Facility_Type']].value_counts()"
   ]
  },
  {
   "cell_type": "code",
   "execution_count": null,
   "metadata": {},
   "outputs": [],
   "source": []
  }
 ],
 "metadata": {
  "kernelspec": {
   "display_name": "venv",
   "language": "python",
   "name": "python3"
  },
  "language_info": {
   "codemirror_mode": {
    "name": "ipython",
    "version": 3
   },
   "file_extension": ".py",
   "mimetype": "text/x-python",
   "name": "python",
   "nbconvert_exporter": "python",
   "pygments_lexer": "ipython3",
   "version": "3.12.3"
  }
 },
 "nbformat": 4,
 "nbformat_minor": 2
}
